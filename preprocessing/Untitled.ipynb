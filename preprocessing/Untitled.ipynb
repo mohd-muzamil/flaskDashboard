{
 "cells": [
  {
   "cell_type": "markdown",
   "id": "ad3795e5",
   "metadata": {},
   "source": [
    "combining all the features"
   ]
  },
  {
   "cell_type": "code",
   "execution_count": 2,
   "id": "22d993ae",
   "metadata": {},
   "outputs": [],
   "source": [
    "import pandas as pd"
   ]
  },
  {
   "cell_type": "code",
   "execution_count": 16,
   "id": "b242892b",
   "metadata": {},
   "outputs": [],
   "source": [
    "# Filtered participants from another notebook\n",
    "filteredParticipants = ['PROSITC1005', 'PROSITC1014', 'PROSITC1018', 'PROSITC1025', 'PROSITC1026', 'PROSITC1027', 'PROSITC1029', 'PROSITC1030', 'PROSITC1031', 'PROSITC1033', 'PROSITC1034', 'PROSITC1036', 'PROSITC1037', 'PROSITC1038', 'PROSITC1039', 'PROSITC1040', 'PROSITC1041', 'PROSITC1043', 'PROSITC1044', 'PROSITC1046', 'PROSITC1057', 'PROSITC1061', 'PROSITC1062', 'PROSITC1066', 'PROSITC1070', 'PROSITC1079', 'PROSITC1080', 'PROSITC1082', 'PROSITC1084', 'PROSITC1086', 'PROSITC1089', 'PROSITC1090', 'PROSITC1097', 'PROSITC1100', 'PROSITC1101', 'PROSITC1104', 'PROSITC1109', 'PROSITC1110', 'PROSITC1111', 'PROSITC1119', 'PROSITC1122', 'PROSITC1126', 'PROSITC1128', 'PROSITC1130', 'PROSITC1132', 'PROSITC1135', 'PROSITC1136', 'PROSITC1137', 'PROSITC1140', 'PROSITC1153', 'PROSITC1158', 'PROSITC1174', 'PROSITC1187', 'PROSITC1192', 'PROSITC1193', 'PROSITC1200', 'PROSITC1221', 'PROSITC1222', 'PROSITC1223', 'PROSITC1224', 'PROSITC1227', 'PROSITC1237', 'PROSITC1240', 'PROSITC1244', 'PROSITC1261', 'PROSITC1272', 'PROSITC1293', 'PROSITC1297', 'PROSITC1299', 'PROSITC1304', 'PROSITC1308', 'PROSITC1317', 'PROSITC1325', 'PROSITC1326', 'PROSITC1343', 'PROSITC1369', 'PROSITC1372', 'PROSITC1379', 'PROSITC1412', 'PROSITC1413', 'PROSITC1422', 'PROSITC1424', 'PROSITC1428', 'PROSITC1438', 'PROSITC1493', 'PROSITC1501', 'PROSITC1502', 'PROSITC1512', 'PROSITC1516', 'PROSITC1526', 'PROSITC1529', 'PROSITC1548', 'PROSITC1550', 'PROSITC1553', 'PROSITC1555', 'PROSITC1562', 'PROSITC1564', 'PROSITC1570', 'PROSITC1602', 'PROSITC1615', 'PROSITC1621', 'PROSITC1623', 'PROSITC1625', 'PROSITC1627', 'PROSITC1629', 'PROSITC1635', 'PROSITC1639', 'PROSITC1642', 'PROSITC1663', 'PROSITC1666', 'PROSITC1671', 'PROSITC1672', 'PROSITC1678', 'PROSITC1684', 'PROSITC1685', 'PROSITC1705', 'PROSITC1705', 'PROSITC1712', 'PROSITC1722', 'PROSITC1748', 'PROSITC1754', 'PROSITC1756', 'PROSITC1761', 'PROSITC1762', 'PROSITC1764', 'PROSITC1785', 'PROSITC1795', 'PROSITC1798', 'PROSITC1803', 'PROSITC1807', 'PROSITC1809', 'PROSITC1810', 'PROSITC1823', 'PROSITC1827', 'PROSITC1831', 'PROSITC1835', 'PROSITC1844', 'PROSITC1861', 'PROSITC1863', 'PROSITC1864', 'PROSITC1865', 'PROSITC1874', 'PROSITC1877', 'PROSITC1881', 'PROSITC1895', 'PROSITC1898', 'PROSITC1911', 'PROSITC1914', 'PROSITC1926', 'PROSITC1942', 'PROSITC1958', 'PROSITC1966', 'PROSITC1979', 'PROSITC1980', 'PROSITC1983', 'PROSITC1985', 'PROSITC1996', 'PROSITC1999', 'PROSITC2017', 'PROSITC2029', 'PROSITC2059', 'PROSITC2060', 'PROSITC2065', 'PROSITC2069', 'PROSITC2076', 'PROSITC2096', 'PROSITC2111', 'PROSITC2117', 'PROSITC2129', 'PROSITC2134', 'PROSITC2156', 'PROSITC2162', 'PROSITC2170', 'PROSITC2195', 'PROSITC2202', 'PROSITC2203', 'PROSITC2135', 'PROSITC2207', 'PROSITC2233', 'PROSITC2259', 'PROSITC2264', 'PROSITC2265', 'PROSITC2267', 'PROSITC2269', 'PROSITC2271', 'PROSITC2278', 'PROSITC2281', 'PROSITC2303', 'PROSITC2306', 'PROSITC2315', 'PROSITC2323', 'PROSITC2327', 'PROSITC2330', 'PROSITC2332', 'PROSITC2333', 'PROSITC2360', 'PROSITC2382', 'PROSITC2384', 'PROSITC2394', 'PROSITC2396', 'PROSITC2411', 'PROSITC2928', 'PROSITC2964', 'PROSITC2975', 'PROSITC2977', 'PROSITC2984', 'PROSITC2986', 'PROSITC3001', 'PROSITC3014', 'PROSITC3025', 'PROSITC3029', 'PROSITC3031', 'PROSITC3035', 'PROSITC3037', 'PROSITC3038', 'PROSITC3044', 'PROSITC3053', 'PROSITC3067', 'PROSITC3070', 'PROSITC3071', 'PROSITC3073', 'PROSITC3076', 'PROSITC3078', 'PROSITC3079', 'PROSITC3102', 'PROSITC3110', 'PROSITC3114', 'PROSITC3117', 'PROSITC3121', 'PROSITC3134', 'PROSITC3150']"
   ]
  },
  {
   "cell_type": "code",
   "execution_count": 4,
   "id": "76894a8a",
   "metadata": {},
   "outputs": [],
   "source": [
    "# screen features\n",
    "screen_features1 = pd.read_csv(\"/csv/features/ios_screen_features_backup_frigg1_20220323_040130AM.csv\")\n",
    "screen_features2 = pd.read_csv(\"/csv/features/ios_screen_features_backup_20220323_045941AM.csv\")\n",
    "\n",
    "screen_features = pd.concat([screen_features1, screen_features2], ignore_index=True)"
   ]
  },
  {
   "cell_type": "code",
   "execution_count": 7,
   "id": "049f8e34",
   "metadata": {},
   "outputs": [
    {
     "data": {
      "text/plain": [
       "Index(['participant', 'date', 'no_of_unlocks', 'max_screen_on_time',\n",
       "       'total_screen_on_time', 'first_screen_unlock_time',\n",
       "       'last_screen_lock_time'],\n",
       "      dtype='object')"
      ]
     },
     "execution_count": 7,
     "metadata": {},
     "output_type": "execute_result"
    }
   ],
   "source": [
    "screen_features.columns"
   ]
  },
  {
   "cell_type": "code",
   "execution_count": 5,
   "id": "2a3113fa",
   "metadata": {},
   "outputs": [],
   "source": [
    "# call features\n",
    "call_features1 = pd.read_csv(\"/csv/features/ios_call_features_backup_frigg1_20220323_041731AM.csv\")\n",
    "call_features2 = pd.read_csv(\"/csv/features/ios_call_features_backup_20220323_050236AM.csv\")\n",
    "\n",
    "call_features = pd.concat([call_features1, call_features2], ignore_index=True)"
   ]
  },
  {
   "cell_type": "code",
   "execution_count": 8,
   "id": "fa217cd0",
   "metadata": {},
   "outputs": [
    {
     "data": {
      "text/plain": [
       "Index(['participant', 'date', 'no_of_missed_calls', 'no_of_rejected_calls',\n",
       "       'no_of_incoming_calls', 'no_of_outgoing_calls', 'total_no_of_calls',\n",
       "       'min_duration_of_single_incoming_call',\n",
       "       'min_duration_of_single_outgoing_call',\n",
       "       'max_duration_of_single_incoming_call',\n",
       "       'max_duration_of_single_outgoing_call',\n",
       "       'total_duration_of_incoming_calls', 'total_duration_of_outgoing_calls',\n",
       "       'total_duration_of_all_calls'],\n",
       "      dtype='object')"
      ]
     },
     "execution_count": 8,
     "metadata": {},
     "output_type": "execute_result"
    }
   ],
   "source": [
    "call_features.columns"
   ]
  },
  {
   "cell_type": "code",
   "execution_count": 6,
   "id": "a1e8aca4",
   "metadata": {},
   "outputs": [],
   "source": [
    "# sleep features\n",
    "sleep_features1 = pd.read_csv(\"/csv/features/ios_sleep_features_backup_frigg1_20220323_042210AM.csv\")\n",
    "sleep_features2 = pd.read_csv(\"/csv/features/ios_sleep_features_backup_20220323_050402AM.csv\")\n",
    "\n",
    "sleep_features = pd.concat([sleep_features1, sleep_features2], ignore_index=True)"
   ]
  },
  {
   "cell_type": "code",
   "execution_count": 9,
   "id": "cc8710b4",
   "metadata": {
    "scrolled": true
   },
   "outputs": [
    {
     "data": {
      "text/plain": [
       "Index(['participant', 'date', 'date_num', 'sleeping_hrs', 'sleep_start_time',\n",
       "       'sleep_end_time'],\n",
       "      dtype='object')"
      ]
     },
     "execution_count": 9,
     "metadata": {},
     "output_type": "execute_result"
    }
   ],
   "source": [
    "sleep_features.columns"
   ]
  },
  {
   "cell_type": "code",
   "execution_count": 20,
   "id": "9ac1495a",
   "metadata": {},
   "outputs": [],
   "source": [
    "featureData = pd.merge(screen_features, call_features, on=[\"participant\", \"date\"], how=\"inner\")\n",
    "featureData = pd.merge(featureData, sleep_features, on=[\"participant\", \"date\"], how=\"inner\")\n",
    "\n",
    "\n",
    "# keep only filtered participants\n",
    "featureData = featureData[featureData[\"participant\"].isin(filteredParticipants)].reset_index(drop=True)"
   ]
  },
  {
   "cell_type": "code",
   "execution_count": 33,
   "id": "57f55b33",
   "metadata": {},
   "outputs": [],
   "source": [
    "featureData.to_csv(\"/home/mmh/flaskDashboard/data/processedData/featureData.csv\", header=True, index=False)"
   ]
  },
  {
   "cell_type": "code",
   "execution_count": 31,
   "id": "ffa65ccc",
   "metadata": {},
   "outputs": [],
   "source": [
    "featureData = featureData.rename(columns={'max_screen_on_time':'maxScreenTime',\n",
    "       'total_screen_on_time':'totalScreenTime', 'first_screen_unlock_time':'firstScreenUnlock',\n",
    "       'last_screen_lock_time':'lastScreenLock', 'no_of_missed_calls':'noMissed', 'no_of_rejected_calls':'noDialled',\n",
    "       'no_of_incoming_calls':'noIncoming', 'no_of_outgoing_calls':'noOutgoing', 'total_no_of_calls':'totalNoCalls',\n",
    "       'min_duration_of_single_incoming_call':'minDurationIncoming',\n",
    "       'min_duration_of_single_outgoing_call':'minDurationOutgoing',\n",
    "       'max_duration_of_single_incoming_call':'maxDurationIncoming',\n",
    "       'max_duration_of_single_outgoing_call':'maxDurtaionOutgoing',\n",
    "       'total_duration_of_incoming_calls':'totalDurationIncoming', 'total_duration_of_outgoing_calls':'totalDurationOutgoing',\n",
    "       'total_duration_of_all_calls':'totalDurationCalls', 'sleeping_hrs':'sleepDuration1',\n",
    "       'sleep_start_time':'sleepStartTime1', 'sleep_end_time':'sleepEndTime1'})"
   ]
  },
  {
   "cell_type": "code",
   "execution_count": 32,
   "id": "ed1ec386",
   "metadata": {},
   "outputs": [
    {
     "data": {
      "text/plain": [
       "Index(['participant', 'date', 'noScreenLocks', 'maxScreenTime',\n",
       "       'totalScreenTime', 'firstScreenUnlock', 'lastScreenLock', 'noMissed',\n",
       "       'noDialled', 'noIncoming', 'noOutgoing', 'totalNoCalls',\n",
       "       'minDurationIncoming', 'minDurationOutgoing', 'maxDurationIncoming',\n",
       "       'maxDurtaionOutgoing', 'totalDurationIncoming', 'totalDurationOutgoing',\n",
       "       'totalDurationCalls', 'date_num', 'sleepDuration1', 'sleepStartTime1',\n",
       "       'sleepEndTime1'],\n",
       "      dtype='object')"
      ]
     },
     "execution_count": 32,
     "metadata": {},
     "output_type": "execute_result"
    }
   ],
   "source": [
    "featureData.columns"
   ]
  },
  {
   "cell_type": "code",
   "execution_count": null,
   "id": "65d77e20",
   "metadata": {},
   "outputs": [],
   "source": []
  }
 ],
 "metadata": {
  "kernelspec": {
   "display_name": "Python 3",
   "language": "python",
   "name": "python3"
  },
  "language_info": {
   "codemirror_mode": {
    "name": "ipython",
    "version": 3
   },
   "file_extension": ".py",
   "mimetype": "text/x-python",
   "name": "python",
   "nbconvert_exporter": "python",
   "pygments_lexer": "ipython3",
   "version": "3.8.10"
  }
 },
 "nbformat": 4,
 "nbformat_minor": 5
}
