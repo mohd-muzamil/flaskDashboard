{
 "cells": [
  {
   "cell_type": "code",
   "execution_count": 97,
   "id": "25f53df3",
   "metadata": {},
   "outputs": [],
   "source": [
    "from imports import *\n",
    "import datetime\n",
    "pd.set_option('display.max_rows', None)"
   ]
  },
  {
   "cell_type": "code",
   "execution_count": 98,
   "id": "dd7d78a2",
   "metadata": {},
   "outputs": [],
   "source": [
    "def sleep_analysis(df, sleep_break=30):\n",
    "    prev = 0\n",
    "    sleep = 0\n",
    "    start = end = 0\n",
    "    SPT_start = SPT_end = 0\n",
    "    sleep_max = 0\n",
    "\n",
    "    for _, row in df.iterrows():\n",
    "        curr = row.timeblock\n",
    "        if (np.round((curr - prev), 2)) <= (sleep_break/10):\n",
    "            sleep += 1\n",
    "            end = curr\n",
    "        else:\n",
    "            sleep = 0\n",
    "            start = curr\n",
    "            end = curr\n",
    "        \n",
    "        if sleep>sleep_max:\n",
    "            sleep_max = sleep\n",
    "            SPT_start = np.round(start, 2)\n",
    "            SPT_end = np.round(end, 2)\n",
    "\n",
    "        prev = row.timeblock\n",
    "    \n",
    "    sleep_max = np.round((sleep_max*10/60), 2)\n",
    "    SPT_start_time = '{:02d}:{:02d}'.format(*divmod(int(SPT_start*10), 60))\n",
    "    SPT_end_time = '{:02d}:{:02d}'.format(*divmod(int(SPT_end*10), 60))\n",
    "#     print(f\"sleep_max:{sleep_max}hrs SPT_start:{SPT_start}, SPT_end:{SPT_end}, no_sleep_interruptions:{no_sleep_interruptions}, duration_of_sleep_interruptions:{duration_of_sleep_interruptions}\")\n",
    "    # return the sleep times detected by the algorithm\n",
    "    return  sleep_max, SPT_start_time, SPT_end_time"
   ]
  },
  {
   "cell_type": "code",
   "execution_count": 99,
   "id": "ffb31530",
   "metadata": {},
   "outputs": [],
   "source": [
    "# screen state data\n",
    "# dataFilename1 = \"Lock_state.csv\"\n",
    "dataFilename1 = \"Lock_state_temp.csv\"\n",
    "# brightness data\n",
    "# dataFilename2 = \"Brightness.csv\"\n",
    "dataFilename2 = \"Brightness_temp.csv\"\n",
    "# accelerometer data\n",
    "# dataFilename3 = \"Accelerometer.csv\"\n",
    "dataFilename3 = \"Accelerometer_temp.csv\"\n",
    "# gyroscope data\n",
    "# dataFilename4 = \"Gyroscope.csv\"\n",
    "dataFilename4 = \"Gyroscope_temp.csv\"\n",
    "\n",
    "dataPath = \"/csv/backup_frigg1\""
   ]
  },
  {
   "cell_type": "markdown",
   "id": "a6682a13",
   "metadata": {},
   "source": [
    "pre processing screenstate data"
   ]
  },
  {
   "cell_type": "code",
   "execution_count": 100,
   "id": "74c8dc9f",
   "metadata": {},
   "outputs": [],
   "source": [
    "# read file with a header\n",
    "header_list = [\"id\", \"participant\", \"attribute\", \"lockstate\", \"timestamp\", \"uploadtimestamp\"]\n",
    "screenstate = pd.read_csv(os.path.join(dataPath, dataFilename1), sep=\"|\")\n",
    "screenstate.columns = header_list\n",
    "\n",
    "# removing DND and social media participants\n",
    "screenstate = screenstate[~screenstate[\"participant\"].str.contains(\"DND\")]\n",
    "screenstate = screenstate[~screenstate[\"participant\"].str.contains(\"SM\")]\n",
    "\n",
    "#change time to Halifax time\n",
    "screenstate[\"timestamp\"] = pd.to_datetime(screenstate[\"timestamp\"], utc=True)\n",
    "screenstate[\"timestamp\"] = pd.to_datetime(screenstate[\"timestamp\"]).dt.tz_convert(tz='America/Halifax')\n",
    "screenstate[\"timestamp\"] = pd.to_datetime(screenstate[\"timestamp\"], utc=False)\n",
    "\n",
    "#add new columns to help extract features\n",
    "screenstate[\"date\"] = pd.to_datetime(screenstate[\"timestamp\"]).dt.date\n",
    "screenstate[\"timeblock\"] = (screenstate[\"timestamp\"].dt.hour * 6) + (screenstate[\"timestamp\"].dt.minute/10).astype(int)\n",
    "\n",
    "# sort data, remove duplicates and drop unecessary columns\n",
    "screenstate = screenstate.sort_values([\"participant\", \"timestamp\"]).reset_index(drop=True)\n",
    "screenstate.drop_duplicates(subset=[\"participant\", \"timestamp\", \"lockstate\"], keep=\"last\", inplace=True)\n",
    "screenstate.drop([\"id\", \"timestamp\", \"attribute\", \"uploadtimestamp\"], axis=1, inplace=True)\n",
    "\n",
    "\n",
    "#keeping only those rows which indicate screen usage\n",
    "screenstate = screenstate[(screenstate.lockstate == \"LOCKED\") | (screenstate.lockstate == \"UNLOCKED\")]"
   ]
  },
  {
   "cell_type": "code",
   "execution_count": 101,
   "id": "0839e026",
   "metadata": {},
   "outputs": [
    {
     "data": {
      "text/html": [
       "<div>\n",
       "<style scoped>\n",
       "    .dataframe tbody tr th:only-of-type {\n",
       "        vertical-align: middle;\n",
       "    }\n",
       "\n",
       "    .dataframe tbody tr th {\n",
       "        vertical-align: top;\n",
       "    }\n",
       "\n",
       "    .dataframe thead th {\n",
       "        text-align: right;\n",
       "    }\n",
       "</style>\n",
       "<table border=\"1\" class=\"dataframe\">\n",
       "  <thead>\n",
       "    <tr style=\"text-align: right;\">\n",
       "      <th></th>\n",
       "      <th>participant</th>\n",
       "      <th>lockstate</th>\n",
       "      <th>date</th>\n",
       "      <th>timeblock</th>\n",
       "    </tr>\n",
       "  </thead>\n",
       "  <tbody>\n",
       "    <tr>\n",
       "      <th>0</th>\n",
       "      <td>PROSIT0003</td>\n",
       "      <td>UNLOCKED</td>\n",
       "      <td>2020-07-24</td>\n",
       "      <td>75</td>\n",
       "    </tr>\n",
       "    <tr>\n",
       "      <th>1</th>\n",
       "      <td>PROSIT0003</td>\n",
       "      <td>UNLOCKED</td>\n",
       "      <td>2020-07-24</td>\n",
       "      <td>76</td>\n",
       "    </tr>\n",
       "    <tr>\n",
       "      <th>2</th>\n",
       "      <td>PROSIT0003</td>\n",
       "      <td>UNLOCKED</td>\n",
       "      <td>2020-07-24</td>\n",
       "      <td>77</td>\n",
       "    </tr>\n",
       "    <tr>\n",
       "      <th>3</th>\n",
       "      <td>PROSIT0003</td>\n",
       "      <td>UNLOCKED</td>\n",
       "      <td>2020-07-24</td>\n",
       "      <td>77</td>\n",
       "    </tr>\n",
       "    <tr>\n",
       "      <th>4</th>\n",
       "      <td>PROSIT0003</td>\n",
       "      <td>UNLOCKED</td>\n",
       "      <td>2020-07-25</td>\n",
       "      <td>55</td>\n",
       "    </tr>\n",
       "  </tbody>\n",
       "</table>\n",
       "</div>"
      ],
      "text/plain": [
       "  participant lockstate        date  timeblock\n",
       "0  PROSIT0003  UNLOCKED  2020-07-24         75\n",
       "1  PROSIT0003  UNLOCKED  2020-07-24         76\n",
       "2  PROSIT0003  UNLOCKED  2020-07-24         77\n",
       "3  PROSIT0003  UNLOCKED  2020-07-24         77\n",
       "4  PROSIT0003  UNLOCKED  2020-07-25         55"
      ]
     },
     "execution_count": 101,
     "metadata": {},
     "output_type": "execute_result"
    }
   ],
   "source": [
    "screenstate.head()"
   ]
  },
  {
   "cell_type": "code",
   "execution_count": 102,
   "id": "c7535c63",
   "metadata": {},
   "outputs": [],
   "source": [
    "# imputing missing values\n",
    "screenstateImputed = pd.DataFrame()\n",
    "participants = screenstate.participant.unique()\n",
    "\n",
    "timeblock = [i for i in range(0,144)]\n",
    "allMinutes = pd.DataFrame({\"timeblock\":timeblock})\n",
    "\n",
    "for participant in participants:\n",
    "    screenstate_participant = screenstate[screenstate.participant == participant].copy()\n",
    "    dates = screenstate_participant.date.unique()\n",
    "\n",
    "    for i, date in enumerate(dates):\n",
    "        screenstate_participant_date = screenstate_participant[screenstate_participant.date == date].copy()    \n",
    "        screenstate_participant_date = pd.merge(screenstate_participant_date, allMinutes, how=\"right\", on=\"timeblock\")\n",
    "\n",
    "        screenstate_participant_date.ffill(inplace=True)\n",
    "        screenstate_participant_date.bfill(inplace=True)\n",
    "        screenstateImputed = pd.concat([screenstateImputed, screenstate_participant_date], axis=0)"
   ]
  },
  {
   "cell_type": "code",
   "execution_count": 103,
   "id": "30f9cd85",
   "metadata": {},
   "outputs": [
    {
     "data": {
      "text/html": [
       "<div>\n",
       "<style scoped>\n",
       "    .dataframe tbody tr th:only-of-type {\n",
       "        vertical-align: middle;\n",
       "    }\n",
       "\n",
       "    .dataframe tbody tr th {\n",
       "        vertical-align: top;\n",
       "    }\n",
       "\n",
       "    .dataframe thead th {\n",
       "        text-align: right;\n",
       "    }\n",
       "</style>\n",
       "<table border=\"1\" class=\"dataframe\">\n",
       "  <thead>\n",
       "    <tr style=\"text-align: right;\">\n",
       "      <th></th>\n",
       "      <th>participant</th>\n",
       "      <th>lockstate</th>\n",
       "      <th>date</th>\n",
       "      <th>timeblock</th>\n",
       "    </tr>\n",
       "  </thead>\n",
       "  <tbody>\n",
       "    <tr>\n",
       "      <th>0</th>\n",
       "      <td>PROSIT0003</td>\n",
       "      <td>UNLOCKED</td>\n",
       "      <td>2020-07-24</td>\n",
       "      <td>0</td>\n",
       "    </tr>\n",
       "    <tr>\n",
       "      <th>1</th>\n",
       "      <td>PROSIT0003</td>\n",
       "      <td>UNLOCKED</td>\n",
       "      <td>2020-07-24</td>\n",
       "      <td>1</td>\n",
       "    </tr>\n",
       "    <tr>\n",
       "      <th>2</th>\n",
       "      <td>PROSIT0003</td>\n",
       "      <td>UNLOCKED</td>\n",
       "      <td>2020-07-24</td>\n",
       "      <td>2</td>\n",
       "    </tr>\n",
       "    <tr>\n",
       "      <th>3</th>\n",
       "      <td>PROSIT0003</td>\n",
       "      <td>UNLOCKED</td>\n",
       "      <td>2020-07-24</td>\n",
       "      <td>3</td>\n",
       "    </tr>\n",
       "    <tr>\n",
       "      <th>4</th>\n",
       "      <td>PROSIT0003</td>\n",
       "      <td>UNLOCKED</td>\n",
       "      <td>2020-07-24</td>\n",
       "      <td>4</td>\n",
       "    </tr>\n",
       "  </tbody>\n",
       "</table>\n",
       "</div>"
      ],
      "text/plain": [
       "  participant lockstate        date  timeblock\n",
       "0  PROSIT0003  UNLOCKED  2020-07-24          0\n",
       "1  PROSIT0003  UNLOCKED  2020-07-24          1\n",
       "2  PROSIT0003  UNLOCKED  2020-07-24          2\n",
       "3  PROSIT0003  UNLOCKED  2020-07-24          3\n",
       "4  PROSIT0003  UNLOCKED  2020-07-24          4"
      ]
     },
     "execution_count": 103,
     "metadata": {},
     "output_type": "execute_result"
    }
   ],
   "source": [
    "screenstateImputed.head()"
   ]
  },
  {
   "cell_type": "markdown",
   "id": "22db00d9",
   "metadata": {},
   "source": [
    "pre processing brightness data"
   ]
  },
  {
   "cell_type": "code",
   "execution_count": 19,
   "id": "9783f1af",
   "metadata": {},
   "outputs": [
    {
     "name": "stdout",
     "output_type": "stream",
     "text": [
      "Preprocessing completed for brightness data\n"
     ]
    }
   ],
   "source": [
    "# read file with a header\n",
    "header_list = [\"id\", \"participant\", \"attribute\", \"brightnesslevel\", \"timestamp\", \"uploadtimestamp\"]\n",
    "brightness = pd.read_csv(os.path.join(dataPath, dataFilename2), sep=\"|\", header=None)\n",
    "brightness.columns = header_list\n",
    "\n",
    "#change time to Halifax time\n",
    "brightness[\"timestamp\"] = pd.to_datetime(brightness[\"timestamp\"], utc=True)\n",
    "brightness[\"timestamp\"] = pd.to_datetime(brightness[\"timestamp\"]).dt.tz_convert(tz='America/Halifax')\n",
    "brightness[\"timestamp\"] = pd.to_datetime(brightness[\"timestamp\"], utc=False)\n",
    "\n",
    "#add new columns to help extract features\n",
    "brightness[\"date\"] = brightness[\"timestamp\"].dt.date\n",
    "brightness[\"timeblock\"] = (brightness[\"timestamp\"].dt.hour * 6) + (np.floor(brightness[\"timestamp\"].dt.minute / 10)).astype(int)\n",
    "\n",
    "# sort data, remove duplicates and drop unecessary columns\n",
    "brightness = brightness.sort_values([\"participant\", \"timestamp\"]).reset_index(drop=True)\n",
    "brightness.drop_duplicates(subset=[\"participant\", \"timestamp\", \"brightnesslevel\"], keep=\"last\", inplace=True)\n",
    "brightness.drop([\"id\", \"timestamp\", \"attribute\", \"uploadtimestamp\"], axis=1, inplace=True)\n",
    "\n",
    "brightness = brightness.groupby([\"participant\", \"date\", \"timeblock\"]).aggregate([\"mean\", \"std\", \"min\", \"max\"]).reset_index()\n",
    "\n",
    "header_list = [\"participant\", \"date\", \"timeblock\", \"brightness_mean\", \"brightness_std\", \"brightness_min\", \"brightness_max\"]\n",
    "brightness.columns = header_list\n",
    "print(\"Preprocessing completed for brightness data\")"
   ]
  },
  {
   "cell_type": "markdown",
   "id": "4b4fbe0e",
   "metadata": {},
   "source": [
    "pre processing accelerometer data"
   ]
  },
  {
   "cell_type": "code",
   "execution_count": 114,
   "id": "724740ea",
   "metadata": {},
   "outputs": [
    {
     "name": "stdout",
     "output_type": "stream",
     "text": [
      "Preprocessing completed for accelerometer data\n"
     ]
    }
   ],
   "source": [
    "# read file with header\n",
    "header_list = [\"id\", \"participant\", \"attribute\", \"accx\", \"accy\", \"accz\", \"timestamp\", \"uploadtimestamp\"]\n",
    "accelerometer = pd.read_csv(os.path.join(dataPath, dataFilename3), sep=\"|\", header=None)\n",
    "accelerometer.columns = header_list\n",
    "\n",
    "#change time to Halifax time\n",
    "accelerometer[\"timestamp\"] = pd.to_datetime(accelerometer[\"timestamp\"], utc=True)\n",
    "accelerometer[\"timestamp\"] = pd.to_datetime(accelerometer[\"timestamp\"]).dt.tz_convert(tz='America/Halifax')\n",
    "accelerometer[\"timestamp\"] = pd.to_datetime(accelerometer[\"timestamp\"], utc=False)\n",
    "\n",
    "#add new columns to help extract features\n",
    "accelerometer[\"date\"] = accelerometer[\"timestamp\"].dt.date\n",
    "accelerometer[\"timeblock\"] = (accelerometer[\"timestamp\"].dt.hour * 6) + (np.floor(accelerometer[\"timestamp\"].dt.minute / 10)).astype(int)\n",
    "\n",
    "# sort data, remove duplicates and drop unecessary columns\n",
    "accelerometer = accelerometer.sort_values([\"participant\", \"timestamp\"]).reset_index(drop=True)\n",
    "accelerometer.drop_duplicates(subset=[\"participant\", \"timestamp\", \"accx\", \"accy\", \"accz\"], keep=\"last\", inplace=True)\n",
    "accelerometer.drop([\"id\", \"timestamp\", \"attribute\", \"uploadtimestamp\"], axis=1, inplace=True)\n",
    "\n",
    "# ENMO : Euclidean Norm Minus One (ENMO) with negative values rounded to zero in g has been shown to correlate with the magnitude of acceleration and human energy expenditure\n",
    "accelerometer[\"acc\"] = np.sqrt((accelerometer[\"accx\"]**2) + (accelerometer[\"accy\"]**2) + (accelerometer[\"accz\"]**2))\n",
    "# accelerometer[\"acc\"] = np.maximum(0, (np.sqrt((accelerometer[\"accelerationx\"]**2) + (accelerometer[\"accelerationy\"]**2) + (accelerometer[\"accelerationz\"]**2)) - 1))\n",
    "\n",
    "# dropping the accelerometer columns\n",
    "accelerometer.drop([\"accx\", \"accy\", \"accz\"], axis=1, inplace=True)\n",
    "\n",
    "#mean #std min max\n",
    "accelerometer = accelerometer.groupby([\"participant\", \"date\", \"timeblock\"]).agg([\"mean\"]).reset_index()\n",
    "accelerometer.columns = ['_'.join(col).strip() if col[1]!=\"\" else col[0] for col in accelerometer.columns.values ]\n",
    "\n",
    "print(\"Preprocessing completed for accelerometer data\")"
   ]
  },
  {
   "cell_type": "code",
   "execution_count": 113,
   "id": "b756aa3d",
   "metadata": {},
   "outputs": [
    {
     "data": {
      "text/plain": [
       "['participant', 'date', 'timeblock', 'acc_mean']"
      ]
     },
     "execution_count": 113,
     "metadata": {},
     "output_type": "execute_result"
    }
   ],
   "source": [
    "# ['_'.join(col).strip() for col in accelerometer.columns.values]\n"
   ]
  },
  {
   "cell_type": "markdown",
   "id": "b95f1d67",
   "metadata": {},
   "source": [
    "pre processing gyroscope data"
   ]
  },
  {
   "cell_type": "code",
   "execution_count": 115,
   "id": "91fe6da5",
   "metadata": {},
   "outputs": [
    {
     "name": "stdout",
     "output_type": "stream",
     "text": [
      "Preprocessing completed for gyroscope data\n"
     ]
    }
   ],
   "source": [
    "# read file with header\n",
    "header_list = [\"id\", \"participant\", \"attribute\", \"gyrox\", \"gyroy\", \"gyroz\", \"timestamp\", \"uploadtimestamp\"]\n",
    "gyroscope = pd.read_csv(os.path.join(dataPath, dataFilename4), sep=\"|\", header=None)\n",
    "gyroscope = gyroscope.sample(frac=0.001)\n",
    "gyroscope.columns = header_list\n",
    "\n",
    "#change time to Halifax time\n",
    "gyroscope[\"timestamp\"] = pd.to_datetime(gyroscope[\"timestamp\"], utc=True)\n",
    "gyroscope[\"timestamp\"] = pd.to_datetime(gyroscope[\"timestamp\"]).dt.tz_convert(tz='America/Halifax')\n",
    "gyroscope[\"timestamp\"] = pd.to_datetime(gyroscope[\"timestamp\"], utc=False)\n",
    "\n",
    "#add new columns to help extract features\n",
    "gyroscope[\"date\"] = gyroscope[\"timestamp\"].dt.date\n",
    "gyroscope[\"time\"] = gyroscope[\"timestamp\"].dt.strftime('%H:%M:%S')\n",
    "gyroscope[\"timeblock\"] = (gyroscope[\"timestamp\"].dt.hour * 6) + (np.floor(gyroscope[\"timestamp\"].dt.minute / 10)).astype(int)\n",
    "\n",
    "# sort data, remove duplicates and drop unecessary columns\n",
    "gyroscope = gyroscope.sort_values([\"participant\", \"timestamp\"]).reset_index(drop=True)\n",
    "gyroscope.drop_duplicates(subset=[\"participant\", \"timestamp\", \"gyrox\", \"gyroy\", \"gyroz\"], keep=\"last\", inplace=True)\n",
    "gyroscope.drop([\"id\", \"timestamp\", \"attribute\", \"uploadtimestamp\"], axis=1, inplace=True)\n",
    "\n",
    "# ENMO : Euclidean Norm Minus One (ENMO) with negative values rounded to zero in g has been shown to correlate with the magnitude of acceleration and human energy expenditure\n",
    "gyroscope[\"gyr\"] = np.sqrt((gyroscope[\"gyrox\"]**2) + (gyroscope[\"gyroy\"]**2) + (gyroscope[\"gyroz\"]**2))\n",
    "# gyroscope[\"gyr\"] = np.maximum(0, (np.sqrt((gyroscope[\"gyrox\"]**2) + (gyroscope[\"gyroy\"]**2) + (gyroscope[\"gyroz\"]**2)) - 1))\n",
    "\n",
    "# dropping the gyroscope columns\n",
    "gyroscope.drop([\"gyrox\", \"gyroy\", \"gyroz\"], axis=1, inplace=True)\n",
    "\n",
    "#mean #std min max\n",
    "gyroscope = gyroscope.groupby([\"participant\", \"date\", \"timeblock\"]).agg([\"mean\"]).reset_index()\n",
    "gyroscope.columns = ['_'.join(col).strip() if col[1]!=\"\" else col[0] for col in gyroscope.columns.values ]\n",
    "\n",
    "print(\"Preprocessing completed for gyroscope data\")"
   ]
  },
  {
   "cell_type": "code",
   "execution_count": null,
   "id": "efbeaec2",
   "metadata": {},
   "outputs": [],
   "source": []
  }
 ],
 "metadata": {
  "kernelspec": {
   "display_name": "Python 3",
   "language": "python",
   "name": "python3"
  },
  "language_info": {
   "codemirror_mode": {
    "name": "ipython",
    "version": 3
   },
   "file_extension": ".py",
   "mimetype": "text/x-python",
   "name": "python",
   "nbconvert_exporter": "python",
   "pygments_lexer": "ipython3",
   "version": "3.8.10"
  }
 },
 "nbformat": 4,
 "nbformat_minor": 5
}
