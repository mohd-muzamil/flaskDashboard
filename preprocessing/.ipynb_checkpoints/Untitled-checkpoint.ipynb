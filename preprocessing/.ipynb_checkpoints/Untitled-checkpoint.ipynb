{
 "cells": [
  {
   "cell_type": "markdown",
   "id": "05cb5d14",
   "metadata": {},
   "source": [
    "Notebook to generate random data files needed for dashboard"
   ]
  },
  {
   "cell_type": "code",
   "execution_count": 2,
   "id": "adcce665",
   "metadata": {},
   "outputs": [],
   "source": [
    "import numpy as np\n",
    "import pandas as pd"
   ]
  },
  {
   "cell_type": "code",
   "execution_count": null,
   "id": "a7836252",
   "metadata": {},
   "outputs": [],
   "source": [
    "# featureData = pd.DataFrame()\n",
    "# featureDataAgg\n",
    "cols = [id,date,noScreenLocks,maxScreenTime,totalScreenTime,firstScreenUnlock,lastScreenLock,noMissed,noDialled,noIncoming,noOutgoing,totalNoCalls,minDurationIncoming,minDurationOutgoing,maxDurationIncoming,maxDurtaionOutgoing,totalDurationIncoming,totalDurationOutgoing,totalDurationCalls,date_num,sleepDuration,sleepStartTime,sleepEndTime]"
   ]
  }
 ],
 "metadata": {
  "interpreter": {
   "hash": "e7c38c8a60edf287c3886bd874fdd1d305fdaadfa36b38aab41ce29e8a4de119"
  },
  "kernelspec": {
   "display_name": "Python 3.8.10 ('venv': venv)",
   "language": "python",
   "name": "python3"
  },
  "language_info": {
   "codemirror_mode": {
    "name": "ipython",
    "version": 3
   },
   "file_extension": ".py",
   "mimetype": "text/x-python",
   "name": "python",
   "nbconvert_exporter": "python",
   "pygments_lexer": "ipython3",
   "version": "3.8.10"
  }
 },
 "nbformat": 4,
 "nbformat_minor": 5
}
