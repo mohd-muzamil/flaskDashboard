{
 "cells": [
  {
   "cell_type": "markdown",
   "metadata": {},
   "source": [
    "#Script to create dummy data that can be used to visualize dashboard instead of sensitive PROSIT data"
   ]
  },
  {
   "cell_type": "code",
   "execution_count": 3,
   "metadata": {},
   "outputs": [],
   "source": [
    "import pandas as pd\n",
    "import os\n",
    "import numpy as np\n",
    "import datetime\n",
    "from sklearn.decomposition import PCA\n",
    "from sklearn.manifold import TSNE\n",
    "# ref for Dim reduction\n",
    "# https://towardsdatascience.com/visualising-high-dimensional-datasets-using-pca-and-t-sne-in-python-8ef87e7915b"
   ]
  },
  {
   "cell_type": "code",
   "execution_count": 4,
   "metadata": {},
   "outputs": [],
   "source": [
    "datapath = os.path.abspath(os.path.join(os.getcwd(), \"../../data\"))\n",
    "\n",
    "participants = [ \"dummy00\"+str(i+1) for i in range(100) ]\n",
    "\n",
    "screenFeatures = [ \"noScreenLocks\", \"firstScreenUnlock\", \"lastScreenLock\", \"maxScreenTime\", \"totalScreenTime\" ]\n",
    "callingFeatures = [ \"noMissed\", \"noDialled\", \"noIncoming\",  \"minDurationIncoming\",  \"maxDurationIncoming\", \"totalDurationIncoming\", \"noOutgoing\", \n",
    "                    \"minDurationOutgoing\", \"maxDurtaionOutgoing\", \"totalDurationOutgoing\", \"totalNoCalls\", \"totalDurationCalls\" ]\n",
    "mobilityFeatures = [ \"stepCount\", \"totalDistance\" , \"noStayPoints\", \"locationVariance\", \"locationEntropy\"]\n",
    "sleepFeatures = [ \"sleepStartTime1\", \"sleepEndTime1\", \"sleepDuration1\", \"sleepStartTime2\", \"sleepEndTime2\", \"sleepDuration2\", \"totalSleepDuration\", \"noSleepInterruptions\" ]\n",
    "\n",
    "featureNames = screenFeatures + callingFeatures + mobilityFeatures + sleepFeatures"
   ]
  },
  {
   "cell_type": "markdown",
   "metadata": {},
   "source": [
    "<ul> Data files needed\n",
    "<li> Personality score\n",
    "<li> Depression Score\n",
    "<li> Features extracted from Mobile sensor data\n",
    "<li> Brightness\n",
    "<li> Acceleromter\n",
    "<li> Gyroscope"
   ]
  },
  {
   "cell_type": "code",
   "execution_count": 36,
   "metadata": {},
   "outputs": [
    {
     "name": "stdout",
     "output_type": "stream",
     "text": [
      "CPU times: user 8.78 ms, sys: 11 µs, total: 8.79 ms\n",
      "Wall time: 7.9 ms\n"
     ]
    }
   ],
   "source": [
    "%%time\n",
    "personalityDummyData = []\n",
    "for participant in participants:\n",
    "    personalityDummyData.append(\n",
    "            [participant] + [np.random.choice([\"ios\", \"android\"])] + list(np.random.randint(1, 10, 5)) #random personality scores\n",
    "        )"
   ]
  },
  {
   "cell_type": "code",
   "execution_count": 37,
   "metadata": {},
   "outputs": [
    {
     "name": "stdout",
     "output_type": "stream",
     "text": [
      "CPU times: user 1min 25s, sys: 360 ms, total: 1min 25s\n",
      "Wall time: 1min 25s\n"
     ]
    }
   ],
   "source": [
    "%%time\n",
    "featuresDummyData = []\n",
    "dateBegin = datetime.date(2020, 1, 1)\n",
    "dateEnd = datetime.date(2020, 12, 1)\n",
    "brightnessDummyData = []\n",
    "accelerometerDummyData = []\n",
    "gyrscopeDummyData = []\n",
    "\n",
    "for participant in participants:\n",
    "    randDateNum = np.random.randint((dateEnd - dateBegin).days)\n",
    "    startDate = dateBegin + datetime.timedelta(days=randDateNum)\n",
    "\n",
    "    for dateNum in range(30):\n",
    "        currDate = (startDate + datetime.timedelta(days=dateNum)).strftime(\"%Y-%m-%d\")\n",
    "        noScreenLocks = np.random.randint(1, 50)    # max 50 screen locks/unlocks\n",
    "        firstScreenUnlock = np.random.randint(1, 12*60)   # random time from first half of the day\n",
    "        lastScreenLock = firstScreenUnlock + np.random.randint(12*60, 24*60)  #random time from second half of the day\n",
    "        maxScreenTime = np.random.randint(1, 3*60)  #3hrs\n",
    "        totalScreenTime = np.random.randint(maxScreenTime, 12*60)  #half of the day\n",
    "        noMissed = np.random.randint(1, 10) # max 10 missed calls\n",
    "        noDialled = np.random.randint(1, 10)    # max 10 dialled calls\n",
    "        noIncoming = np.random.randint(1, 10)   # max 10 incoming calls\n",
    "        minDurationIncoming = np.random.randint(1, 10)  #max 10mins\n",
    "        maxDurationIncoming = np.random.randint(minDurationIncoming, 3*60)  #max 3hrs\n",
    "        totalDurationIncoming = np.random.randint(minDurationIncoming, 3*60)\n",
    "        noOutgoing = np.random.randint(1, 10)   # max 10mins\n",
    "        minDurationOutgoing = np.random.randint(1, 10)  # max 10mins\n",
    "        maxDurtaionOutgoing = np.random.randint(minDurationOutgoing, 3*60)  # max 3hrs\n",
    "        totalDurationOutgoing = np.random.randint(minDurationOutgoing, 3*60)\n",
    "        totalNoCalls = noMissed + noDialled + noIncoming + noOutgoing\n",
    "        totalDurationCalls = totalDurationIncoming + totalDurationOutgoing\n",
    "        stepCount = np.round(np.random.randint(1, 10*1312.33595801), 0)      # 10kms\n",
    "        totalDistance = np.round(stepCount/1312.33595801, 2)\n",
    "        noStayPoints = np.random.randint(1, 10)\n",
    "        locationVariance = np.round(np.random.rand(), 2)\n",
    "        locationEntropy = np.round(np.random.rand(), 2)\n",
    "        sleepStartTime1 = np.random.randint(1, 12*60)\n",
    "        sleepEndTime1 = np.random.randint(sleepStartTime1, sleepStartTime1 + 12*60)\n",
    "        sleepDuration1 = sleepEndTime1 - sleepStartTime1\n",
    "        sleepStartTime2 = np.random.randint(sleepEndTime1, sleepEndTime1 + 24*60-sleepDuration1)\n",
    "        sleepEndTime2 = np.random.randint(sleepStartTime2, sleepStartTime2 + 12*60 -sleepDuration1)\n",
    "        sleepDuration2 = sleepEndTime2 - sleepStartTime2\n",
    "        totalSleepDuration = sleepDuration1 + sleepDuration2\n",
    "        noSleepInterruptions = np.random.randint(1, 10)\n",
    "        depressionScore = np.random.randint(1, 10)\n",
    "\n",
    "        featuresDummyData.append(\n",
    "            [participant, currDate] \n",
    "            + [ noScreenLocks,\n",
    "                firstScreenUnlock,\n",
    "                lastScreenLock,\n",
    "                maxScreenTime,\n",
    "                totalScreenTime,\n",
    "                noMissed,\n",
    "                noDialled,\n",
    "                noIncoming,\n",
    "                minDurationIncoming,\n",
    "                maxDurationIncoming,\n",
    "                noOutgoing,\n",
    "                minDurationOutgoing,\n",
    "                maxDurtaionOutgoing,\n",
    "                totalNoCalls,\n",
    "                totalDurationIncoming,\n",
    "                totalDurationOutgoing,\n",
    "                totalDurationCalls,\n",
    "                stepCount,\n",
    "                totalDistance,\n",
    "                noStayPoints,\n",
    "                locationVariance,\n",
    "                locationEntropy,\n",
    "                sleepStartTime1,\n",
    "                sleepEndTime1,\n",
    "                sleepDuration1,\n",
    "                sleepStartTime2,\n",
    "                sleepEndTime2,\n",
    "                sleepDuration2,\n",
    "                totalSleepDuration,\n",
    "                noSleepInterruptions,\n",
    "                depressionScore ]\n",
    "            ) \n",
    "\n",
    "        for i in range(24*60):\n",
    "            brightnessDummyData.append(\n",
    "                [participant, currDate, i, np.round(np.random.random(), 2)] \n",
    "            )\n",
    "            accelerometerDummyData.append(\n",
    "                [participant, currDate, i, np.round(np.random.random(), 2)] \n",
    "            )\n",
    "            gyrscopeDummyData.append(\n",
    "                [participant, currDate, i, np.round(np.random.random(), 2)] \n",
    "            )"
   ]
  },
  {
   "cell_type": "code",
   "execution_count": 38,
   "metadata": {},
   "outputs": [],
   "source": [
    "featuresDummy = pd.DataFrame(data = featuresDummyData, columns = [\"participantId\", \"date\"] + featureNames + [\"depressionScore\"])\n",
    "personalityScoresDummy = pd.DataFrame(data = personalityDummyData, columns = [\"participantId\", \"device\", \"open\", \"con\", \"agree\", \"extra\", \"neuro\"])\n",
    "brightnessDummy = pd.DataFrame(data = brightnessDummyData, columns = [\"participantId\", \"date\", \"minuteOfTheDay\" ,\"brt\"])\n",
    "accelerometerDummy = pd.DataFrame(data = accelerometerDummyData, columns = [\"participantId\", \"date\", \"minuteOfTheDay\" ,\"acc\"])\n",
    "gyroscopeDummy = pd.DataFrame(data = gyrscopeDummyData, columns = [\"participantId\", \"date\", \"minuteOfTheDay\" ,\"gyr\"])"
   ]
  },
  {
   "cell_type": "code",
   "execution_count": 39,
   "metadata": {},
   "outputs": [],
   "source": [
    "# pca = PCA(n_components=2)\n",
    "# pca_result = pca.fit_transform(personalityScoresDummy.iloc[:,2:])\n",
    "# personalityScoresDummy['x0'] = pca_result[:,0]\n",
    "# personalityScoresDummy['x1'] = pca_result[:,1]"
   ]
  },
  {
   "cell_type": "code",
   "execution_count": 40,
   "metadata": {},
   "outputs": [
    {
     "name": "stdout",
     "output_type": "stream",
     "text": [
      "[t-SNE] Computing 99 nearest neighbors...\n",
      "[t-SNE] Indexed 100 samples in 0.000s...\n",
      "[t-SNE] Computed neighbors for 100 samples in 0.004s...\n",
      "[t-SNE] Computed conditional probabilities for sample 100 / 100\n",
      "[t-SNE] Mean sigma: 3.894831\n",
      "[t-SNE] KL divergence after 250 iterations with early exaggeration: 53.148167\n",
      "[t-SNE] KL divergence after 300 iterations: 0.648216\n"
     ]
    }
   ],
   "source": [
    "tsne = TSNE(n_components=2, verbose=1, perplexity=40, n_iter=300)\n",
    "tsne_result = tsne.fit_transform(personalityScoresDummy.iloc[:,2:])\n",
    "personalityScoresDummy['x'] = tsne_result[:,0]\n",
    "personalityScoresDummy['y'] = tsne_result[:,1]"
   ]
  },
  {
   "cell_type": "code",
   "execution_count": 41,
   "metadata": {},
   "outputs": [],
   "source": [
    "personalityScoresDummy.to_csv(os.path.join(datapath, \"dummyPersonalityScores\"), index=False, header=True)\n",
    "featuresDummy.to_csv(os.path.join(datapath, \"dummyFeatureData\"), index=False, header=True)\n",
    "brightnessDummy.to_csv(os.path.join(datapath, \"dummyBrightness\"), index=False, header=True)\n",
    "accelerometerDummy.to_csv(os.path.join(datapath, \"dummyAccelerometer\"), index=False, header=True)\n",
    "gyroscopeDummy.to_csv(os.path.join(datapath, \"dummyGyroscope\"), index=False, header=True)"
   ]
  },
  {
   "cell_type": "code",
   "execution_count": 5,
   "metadata": {},
   "outputs": [],
   "source": [
    "# personalityScoresDummy1 = pd.read_csv(os.path.join(datapath, \"dummyPersonalityScores\"))\n",
    "# featuresDummy1 = pd.read_csv(os.path.join(datapath, \"dummyFeatureData\"))\n",
    "brightnessDummy1 = pd.read_csv(os.path.join(datapath, \"dummyBrightness\"))\n",
    "# featuresDummy1 = pd.read_csv(os.path.join(datapath, \"dummyAccelerometer\"))\n",
    "# featuresDummy1 = pd.read_csv(os.path.join(datapath, \"dummyGyroscope\"))"
   ]
  },
  {
   "cell_type": "code",
   "execution_count": 10,
   "metadata": {},
   "outputs": [
    {
     "data": {
      "text/plain": [
       "(43200, 4)"
      ]
     },
     "execution_count": 10,
     "metadata": {},
     "output_type": "execute_result"
    }
   ],
   "source": [
    "brightnessDummy1[brightnessDummy1.participantId == \"dummy001\"].shape"
   ]
  },
  {
   "cell_type": "code",
   "execution_count": 4,
   "metadata": {},
   "outputs": [],
   "source": [
    "df = pd.read_csv(os.path.join(\"../../data\", \"dummyPersonalityScores\"))"
   ]
  },
  {
   "cell_type": "code",
   "execution_count": 5,
   "metadata": {},
   "outputs": [
    {
     "data": {
      "text/html": [
       "<div>\n",
       "<style scoped>\n",
       "    .dataframe tbody tr th:only-of-type {\n",
       "        vertical-align: middle;\n",
       "    }\n",
       "\n",
       "    .dataframe tbody tr th {\n",
       "        vertical-align: top;\n",
       "    }\n",
       "\n",
       "    .dataframe thead th {\n",
       "        text-align: right;\n",
       "    }\n",
       "</style>\n",
       "<table border=\"1\" class=\"dataframe\">\n",
       "  <thead>\n",
       "    <tr style=\"text-align: right;\">\n",
       "      <th></th>\n",
       "      <th>participantId</th>\n",
       "      <th>device</th>\n",
       "      <th>open</th>\n",
       "      <th>con</th>\n",
       "      <th>agree</th>\n",
       "      <th>extra</th>\n",
       "      <th>neuro</th>\n",
       "    </tr>\n",
       "  </thead>\n",
       "  <tbody>\n",
       "    <tr>\n",
       "      <th>0</th>\n",
       "      <td>dummy001</td>\n",
       "      <td>android</td>\n",
       "      <td>9</td>\n",
       "      <td>3</td>\n",
       "      <td>8</td>\n",
       "      <td>9</td>\n",
       "      <td>3</td>\n",
       "    </tr>\n",
       "    <tr>\n",
       "      <th>1</th>\n",
       "      <td>dummy002</td>\n",
       "      <td>android</td>\n",
       "      <td>6</td>\n",
       "      <td>5</td>\n",
       "      <td>3</td>\n",
       "      <td>4</td>\n",
       "      <td>9</td>\n",
       "    </tr>\n",
       "    <tr>\n",
       "      <th>2</th>\n",
       "      <td>dummy003</td>\n",
       "      <td>ios</td>\n",
       "      <td>9</td>\n",
       "      <td>9</td>\n",
       "      <td>5</td>\n",
       "      <td>4</td>\n",
       "      <td>9</td>\n",
       "    </tr>\n",
       "    <tr>\n",
       "      <th>3</th>\n",
       "      <td>dummy004</td>\n",
       "      <td>android</td>\n",
       "      <td>4</td>\n",
       "      <td>9</td>\n",
       "      <td>7</td>\n",
       "      <td>7</td>\n",
       "      <td>6</td>\n",
       "    </tr>\n",
       "    <tr>\n",
       "      <th>4</th>\n",
       "      <td>dummy005</td>\n",
       "      <td>android</td>\n",
       "      <td>9</td>\n",
       "      <td>8</td>\n",
       "      <td>5</td>\n",
       "      <td>6</td>\n",
       "      <td>8</td>\n",
       "    </tr>\n",
       "    <tr>\n",
       "      <th>...</th>\n",
       "      <td>...</td>\n",
       "      <td>...</td>\n",
       "      <td>...</td>\n",
       "      <td>...</td>\n",
       "      <td>...</td>\n",
       "      <td>...</td>\n",
       "      <td>...</td>\n",
       "    </tr>\n",
       "    <tr>\n",
       "      <th>95</th>\n",
       "      <td>dummy0096</td>\n",
       "      <td>ios</td>\n",
       "      <td>1</td>\n",
       "      <td>2</td>\n",
       "      <td>7</td>\n",
       "      <td>5</td>\n",
       "      <td>8</td>\n",
       "    </tr>\n",
       "    <tr>\n",
       "      <th>96</th>\n",
       "      <td>dummy0097</td>\n",
       "      <td>ios</td>\n",
       "      <td>3</td>\n",
       "      <td>9</td>\n",
       "      <td>6</td>\n",
       "      <td>7</td>\n",
       "      <td>5</td>\n",
       "    </tr>\n",
       "    <tr>\n",
       "      <th>97</th>\n",
       "      <td>dummy0098</td>\n",
       "      <td>ios</td>\n",
       "      <td>7</td>\n",
       "      <td>5</td>\n",
       "      <td>3</td>\n",
       "      <td>1</td>\n",
       "      <td>8</td>\n",
       "    </tr>\n",
       "    <tr>\n",
       "      <th>98</th>\n",
       "      <td>dummy0099</td>\n",
       "      <td>ios</td>\n",
       "      <td>2</td>\n",
       "      <td>9</td>\n",
       "      <td>1</td>\n",
       "      <td>3</td>\n",
       "      <td>9</td>\n",
       "    </tr>\n",
       "    <tr>\n",
       "      <th>99</th>\n",
       "      <td>dummy00100</td>\n",
       "      <td>ios</td>\n",
       "      <td>7</td>\n",
       "      <td>1</td>\n",
       "      <td>3</td>\n",
       "      <td>6</td>\n",
       "      <td>5</td>\n",
       "    </tr>\n",
       "  </tbody>\n",
       "</table>\n",
       "<p>100 rows × 7 columns</p>\n",
       "</div>"
      ],
      "text/plain": [
       "   participantId   device  open  con  agree  extra  neuro\n",
       "0       dummy001  android     9    3      8      9      3\n",
       "1       dummy002  android     6    5      3      4      9\n",
       "2       dummy003      ios     9    9      5      4      9\n",
       "3       dummy004  android     4    9      7      7      6\n",
       "4       dummy005  android     9    8      5      6      8\n",
       "..           ...      ...   ...  ...    ...    ...    ...\n",
       "95     dummy0096      ios     1    2      7      5      8\n",
       "96     dummy0097      ios     3    9      6      7      5\n",
       "97     dummy0098      ios     7    5      3      1      8\n",
       "98     dummy0099      ios     2    9      1      3      9\n",
       "99    dummy00100      ios     7    1      3      6      5\n",
       "\n",
       "[100 rows x 7 columns]"
      ]
     },
     "execution_count": 5,
     "metadata": {},
     "output_type": "execute_result"
    }
   ],
   "source": [
    "df.drop([\"x\",'y'], axis=1, inplace=True)\n",
    "df"
   ]
  },
  {
   "cell_type": "code",
   "execution_count": 6,
   "metadata": {},
   "outputs": [],
   "source": [
    "df.to_csv(os.path.join(\"../../data\", \"dummyPersonalityScores\"), index=False)"
   ]
  },
  {
   "cell_type": "code",
   "execution_count": null,
   "metadata": {},
   "outputs": [],
   "source": []
  }
 ],
 "metadata": {
  "interpreter": {
   "hash": "31f2aee4e71d21fbe5cf8b01ff0e069b9275f58929596ceb00d14d90e3e16cd6"
  },
  "kernelspec": {
   "display_name": "Python 3.8.10 64-bit",
   "language": "python",
   "name": "python3"
  },
  "language_info": {
   "codemirror_mode": {
    "name": "ipython",
    "version": 3
   },
   "file_extension": ".py",
   "mimetype": "text/x-python",
   "name": "python",
   "nbconvert_exporter": "python",
   "pygments_lexer": "ipython3",
   "version": "3.8.10"
  },
  "orig_nbformat": 4
 },
 "nbformat": 4,
 "nbformat_minor": 2
}
