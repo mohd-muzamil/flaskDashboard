{
 "cells": [
  {
   "cell_type": "markdown",
   "metadata": {},
   "source": [
    "#### This script is used to create dummy data that can be used to visualize dashboard instead of sensitive PROSIT data.\n",
    "##### I am using this script to generate 30 features that needs to be extracted from real data and brightness, accelerometer,<br> and gyroscore raw data and BIG5 personality scores of dummy participants.<br> All this data will used in visualizations in my Dashboard."
   ]
  },
  {
   "cell_type": "code",
   "execution_count": 10,
   "metadata": {},
   "outputs": [],
   "source": [
    "import pandas as pd\n",
    "import os\n",
    "import numpy as np\n",
    "import datetime\n",
    "from sklearn.decomposition import PCA\n",
    "from sklearn.manifold import TSNE\n",
    "# ref for Dim reduction\n",
    "# https://towardsdatascience.com/visualising-high-dimensional-datasets-using-pca-and-t-sne-in-python-8ef87e7915b"
   ]
  },
  {
   "cell_type": "code",
   "execution_count": 11,
   "metadata": {},
   "outputs": [],
   "source": [
    "datapath = os.path.abspath(os.path.join(os.getcwd(), \"../../data/processedData\"))\n",
    "\n",
    "# creating dummy data for 100 participant\n",
    "# participants = [ \"dummy00\"+str(i+1) for i in range(100) ]\n",
    "participants = ['PROSITC3150', 'PROSITC3029', 'PROSITC2838', 'PROSITC3037', 'PROSITC3102', \n",
    "                'PROSITC3117', 'PROSITC3069', 'PROSITC3031', 'PROSITC2964', 'PROSITC3073', \n",
    "                'PROSITC2976', 'PROSITC3078', 'PROSITC3001', 'PROSITC2928', 'PROSITC3110', \n",
    "                'PROSITC3079', 'PROSITC00M']\n",
    "\n",
    "# Below are the features that need to be extracted from raw data, but will be randomly generated using this script\n",
    "screenFeatures = [ \"noScreenLocks\", \"firstScreenUnlock\", \"lastScreenLock\", \"maxScreenTime\", \"totalScreenTime\" ]\n",
    "callingFeatures = [ \"noMissed\", \"noDialled\", \"noIncoming\",  \"minDurationIncoming\",  \"maxDurationIncoming\", \"totalDurationIncoming\", \"noOutgoing\", \n",
    "                    \"minDurationOutgoing\", \"maxDurtaionOutgoing\", \"totalDurationOutgoing\", \"totalNoCalls\", \"totalDurationCalls\" ]\n",
    "mobilityFeatures = [ \"stepCount\", \"totalDistance\" , \"noStayPoints\", \"locationVariance\", \"locationEntropy\"]\n",
    "sleepFeatures = [\"sleepStartTime1\", \"sleepEndTime1\", \"sleepDuration1\", \"sleepStartTime2\", \"sleepEndTime2\", \"sleepDuration2\", \"totalSleepDuration\", \"noSleepInterruptions\" ]\n",
    "\n",
    "featureNames = screenFeatures + callingFeatures + mobilityFeatures + sleepFeatures"
   ]
  },
  {
   "cell_type": "code",
   "execution_count": 12,
   "metadata": {},
   "outputs": [],
   "source": [
    "date_dict = {'PROSITC3150': ['2022-02-07', '2022-02-08', '2022-02-09'], 'PROSITC3029': ['2022-01-24', '2022-01-25', '2022-01-26', '2022-01-27', '2022-01-28', '2022-01-29', '2022-01-30', '2022-01-31', '2022-02-01', '2022-02-02', '2022-02-03', '2022-02-04', '2022-02-05', '2022-02-06', '2022-02-07', '2022-02-08', '2022-02-09'], 'PROSITC2838': ['2021-08-11', '2021-08-12', '2021-08-13'], 'PROSITC3037': ['2022-01-24', '2022-01-25', '2022-01-26', '2022-01-27', '2022-01-28', '2022-01-29', '2022-01-30', '2022-01-31', '2022-02-01', '2022-02-02', '2022-02-03', '2022-02-04', '2022-02-05', '2022-02-06', '2022-02-07', '2022-02-08'], 'PROSITC3102': ['2022-02-03', '2022-02-04', '2022-02-05', '2022-02-06', '2022-02-07', '2022-02-08', '2022-02-09'], 'PROSITC3117': ['2022-02-03', '2022-02-04', '2022-02-05', '2022-02-06', '2022-02-07', '2022-02-08', '2022-02-09'], 'PROSITC3069': ['2022-02-08', '2022-02-09'], 'PROSITC3031': ['2022-01-26', '2022-01-27', '2022-01-28', '2022-01-29', '2022-01-30', '2022-01-31', '2022-02-01', '2022-02-02', '2022-02-03', '2022-02-04', '2022-02-05', '2022-02-06', '2022-02-07', '2022-02-08', '2022-02-09'], 'PROSITC2964': ['2021-10-19', '2021-10-20', '2021-10-21', '2021-10-22', '2021-10-23', '2021-10-24', '2021-10-25', '2021-10-26', '2021-10-27', '2021-10-28', '2021-10-29', '2021-10-30', '2021-10-31', '2021-11-01', '2021-11-02', '2021-11-03', '2021-11-05', '2021-11-06', '2021-11-07', '2021-11-08', '2021-11-09', '2021-11-10', '2021-11-11', '2021-11-12', '2021-11-13', '2021-11-14', '2021-11-15', '2021-11-16', '2021-11-17', '2021-11-18', '2021-11-19'], 'PROSITC3073': ['2022-01-28', '2022-01-29', '2022-01-30', '2022-01-31', '2022-02-01'], 'PROSITC2976': ['2021-10-21', '2021-10-22', '2021-10-23', '2021-10-24', '2021-10-25', '2021-10-26', '2021-10-27', '2021-10-28', '2021-10-29', '2021-10-30'], 'PROSITC3078': ['2022-01-27', '2022-01-28', '2022-01-29', '2022-01-30', '2022-01-31', '2022-02-01', '2022-02-02', '2022-02-03', '2022-02-04', '2022-02-05', '2022-02-06', '2022-02-07', '2022-02-08', '2022-02-09'], 'PROSITC3001': ['2021-11-20', '2021-11-21', '2021-11-22', '2021-11-23', '2021-11-24', '2021-11-25', '2021-11-26', '2021-11-27', '2021-11-28', '2021-11-29', '2021-11-30', '2021-12-01', '2021-12-02', '2021-12-03', '2021-12-04', '2021-12-05', '2021-12-06', '2021-12-07', '2021-12-08', '2021-12-09', '2021-12-10', '2021-12-11', '2021-12-12', '2021-12-13', '2021-12-14', '2021-12-15', '2021-12-16', '2021-12-17', '2021-12-18', '2021-12-19', '2021-12-20', '2021-12-21', '2021-12-22', '2021-12-23', '2021-12-24'], 'PROSITC2928': ['2021-08-03', '2021-08-04', '2021-08-05', '2021-08-06', '2021-08-07', '2021-08-09', '2021-08-10', '2021-08-11', '2021-08-12', '2021-08-13', '2021-08-14', '2021-08-15', '2021-08-16', '2021-08-17', '2021-08-18', '2021-08-19', '2021-08-20', '2021-08-21', '2021-08-22', '2021-08-23', '2021-08-24', '2021-08-25', '2021-08-26', '2021-08-27', '2021-08-28', '2021-08-29', '2021-08-30', '2021-08-31', '2021-09-01', '2021-09-02', '2021-09-03', '2021-09-04', '2021-09-05', '2021-09-06', '2021-09-07', '2021-09-08', '2021-09-09', '2021-09-10', '2021-09-11', '2021-09-12', '2021-09-13', '2021-09-14', '2021-09-15', '2021-09-16', '2021-09-17', '2021-09-18', '2021-09-19', '2021-09-20', '2021-09-21', '2021-09-22', '2021-09-23', '2021-09-24', '2021-09-25'], 'PROSITC3110': ['2022-02-02', '2022-02-03', '2022-02-04', '2022-02-06', '2022-02-07', '2022-02-08', '2022-02-09'], 'PROSITC3079': ['2022-01-27', '2022-01-28', '2022-01-29', '2022-01-30', '2022-01-31', '2022-02-01', '2022-02-02', '2022-02-03', '2022-02-04', '2022-02-05', '2022-02-06', '2022-02-07', '2022-02-08', '2022-02-09'], 'PROSITC00M': ['2021-11-18', '2021-11-19', '2021-11-20', '2021-11-21', '2021-11-22', '2021-11-23', '2021-11-24', '2021-11-25', '2021-11-26', '2021-11-27', '2021-11-28', '2021-11-29', '2021-11-30', '2021-12-01', '2021-12-02', '2021-12-03', '2021-12-04', '2021-12-05', '2021-12-06', '2021-12-07', '2021-12-08', '2021-12-09', '2021-12-10', '2021-12-11', '2021-12-12', '2021-12-13', '2021-12-14', '2021-12-15', '2021-12-16', '2021-12-17', '2021-12-18', '2021-12-19', '2021-12-20', '2021-12-21', '2021-12-22', '2021-12-23', '2021-12-24', '2021-12-25', '2021-12-26', '2021-12-27', '2021-12-28', '2021-12-29', '2021-12-30', '2021-12-31', '2022-01-01', '2022-01-02', '2022-01-03', '2022-01-04', '2022-01-05', '2022-01-06', '2022-01-07', '2022-01-08', '2022-01-09', '2022-01-10', '2022-01-11', '2022-01-12', '2022-01-13', '2022-01-14', '2022-01-15', '2022-01-16', '2022-01-17', '2022-01-18', '2022-01-19', '2022-01-20', '2022-01-21', '2022-01-22', '2022-01-23', '2022-01-24', '2022-01-25', '2022-01-26', '2022-01-27', '2022-01-28', '2022-01-29', '2022-01-30', '2022-01-31', '2022-02-01', '2022-02-02', '2022-02-03', '2022-02-04', '2022-02-05', '2022-02-06', '2022-02-07', '2022-02-08', '2022-02-09']}"
   ]
  },
  {
   "cell_type": "markdown",
   "metadata": {},
   "source": [
    "<ul> Data files needed\n",
    "<li> Personality score\n",
    "<li> Depression Score\n",
    "<li> Features extracted from Mobile sensor data\n",
    "<li> Brightness\n",
    "<li> Acceleromter\n",
    "<li> Gyroscope"
   ]
  },
  {
   "cell_type": "code",
   "execution_count": 13,
   "metadata": {},
   "outputs": [
    {
     "name": "stdout",
     "output_type": "stream",
     "text": [
      "CPU times: user 1.02 ms, sys: 7 µs, total: 1.02 ms\n",
      "Wall time: 902 µs\n"
     ]
    }
   ],
   "source": [
    "%%time\n",
    "personalityDummyData = []\n",
    "for participant in participants:\n",
    "    personalityDummyData.append(\n",
    "            [participant] + [np.random.choice([\"ios\", \"android\"])] + list(np.random.randint(1, 10, 5)) #random personality scores\n",
    "        )"
   ]
  },
  {
   "cell_type": "code",
   "execution_count": 14,
   "metadata": {},
   "outputs": [
    {
     "name": "stdout",
     "output_type": "stream",
     "text": [
      "CPU times: user 9.55 s, sys: 44 ms, total: 9.59 s\n",
      "Wall time: 9.59 s\n"
     ]
    }
   ],
   "source": [
    "%%time\n",
    "featuresDummyData = []\n",
    "dateBegin = datetime.date(2020, 1, 1)\n",
    "dateEnd = datetime.date(2020, 12, 1)\n",
    "brightnessDummyData = []\n",
    "accelerometerDummyData = []\n",
    "gyrscopeDummyData = []\n",
    "\n",
    "for participant in participants:\n",
    "    #randomly select any one date in first 11 months of a year to generate 30days of data from that date\n",
    "    # randDateNum = np.random.randint((dateEnd - dateBegin).days)\n",
    "    # startDate = dateBegin + datetime.timedelta(days=randDateNum)\n",
    "    startDate = date_dict[participant][0]\n",
    "\n",
    "    for dateNum in date_dict[participant]:\n",
    "        # currDate = (startDate + datetime.timedelta(days=dateNum)).strftime(\"%Y-%m-%d\")\n",
    "        currDate = dateNum\n",
    "        noScreenLocks = np.random.randint(1, 50)    # max 50 screen locks/unlocks\n",
    "        firstScreenUnlock = np.random.randint(1, 12*60)   # random time from first half of the day\n",
    "        lastScreenLock = firstScreenUnlock + np.random.randint(12*60, 24*60)  #random time from second half of the day\n",
    "        maxScreenTime = np.random.randint(1, 3*60)  #3hrs\n",
    "        totalScreenTime = np.random.randint(maxScreenTime, 12*60)  #half of the day\n",
    "        noMissed = np.random.randint(1, 10) # max 10 missed calls\n",
    "        noDialled = np.random.randint(1, 10)    # max 10 dialled calls\n",
    "        noIncoming = np.random.randint(1, 10)   # max 10 incoming calls\n",
    "        minDurationIncoming = np.random.randint(1, 10)  #max 10mins\n",
    "        maxDurationIncoming = np.random.randint(minDurationIncoming, 3*60)  #max 3hrs\n",
    "        totalDurationIncoming = np.random.randint(minDurationIncoming, 3*60)\n",
    "        noOutgoing = np.random.randint(1, 10)   # max 10mins\n",
    "        minDurationOutgoing = np.random.randint(1, 10)  # max 10mins\n",
    "        maxDurtaionOutgoing = np.random.randint(minDurationOutgoing, 3*60)  # max 3hrs\n",
    "        totalDurationOutgoing = np.random.randint(minDurationOutgoing, 3*60)\n",
    "        totalNoCalls = noMissed + noDialled + noIncoming + noOutgoing\n",
    "        totalDurationCalls = totalDurationIncoming + totalDurationOutgoing\n",
    "        stepCount = np.round(np.random.randint(1, 10*1312.33595801), 0)      # 10kms\n",
    "        totalDistance = np.round(stepCount/1312.33595801, 2)\n",
    "        noStayPoints = np.random.randint(1, 10)\n",
    "        locationVariance = np.round(np.random.rand(), 2)\n",
    "        locationEntropy = np.round(np.random.rand(), 2)\n",
    "        sleepStartTime1 = np.random.randint(1, 12*60)\n",
    "        sleepEndTime1 = np.random.randint(sleepStartTime1, sleepStartTime1 + 12*60)\n",
    "        sleepDuration1 = sleepEndTime1 - sleepStartTime1\n",
    "        sleepStartTime2 = np.random.randint(sleepEndTime1, sleepEndTime1 + 24*60-sleepDuration1)\n",
    "        sleepEndTime2 = np.random.randint(sleepStartTime2, sleepStartTime2 + 12*60 -sleepDuration1)\n",
    "        sleepDuration2 = sleepEndTime2 - sleepStartTime2\n",
    "        totalSleepDuration = sleepDuration1 + sleepDuration2\n",
    "        noSleepInterruptions = np.random.randint(1, 10)\n",
    "        depressionScore = np.random.randint(1, 10)\n",
    "\n",
    "        featuresDummyData.append(\n",
    "            [participant, currDate] \n",
    "            + [ noScreenLocks,\n",
    "                firstScreenUnlock,\n",
    "                lastScreenLock,\n",
    "                maxScreenTime,\n",
    "                totalScreenTime,\n",
    "                noMissed,\n",
    "                noDialled,\n",
    "                noIncoming,\n",
    "                minDurationIncoming,\n",
    "                maxDurationIncoming,\n",
    "                noOutgoing,\n",
    "                minDurationOutgoing,\n",
    "                maxDurtaionOutgoing,\n",
    "                totalNoCalls,\n",
    "                totalDurationIncoming,\n",
    "                totalDurationOutgoing,\n",
    "                totalDurationCalls,\n",
    "                stepCount,\n",
    "                totalDistance,\n",
    "                noStayPoints,\n",
    "                locationVariance,\n",
    "                locationEntropy,\n",
    "                sleepStartTime1,\n",
    "                sleepEndTime1,\n",
    "                sleepDuration1,\n",
    "                sleepStartTime2,\n",
    "                sleepEndTime2,\n",
    "                sleepDuration2,\n",
    "                totalSleepDuration,\n",
    "                noSleepInterruptions,\n",
    "                depressionScore ]\n",
    "            ) \n",
    "\n",
    "        for i in range(24*60):\n",
    "            brightnessDummyData.append(\n",
    "                [participant, currDate, i, np.round(np.random.random(), 2)] \n",
    "            )\n",
    "            accelerometerDummyData.append(\n",
    "                [participant, currDate, i, np.round(np.random.random(), 2)] \n",
    "            )\n",
    "            gyrscopeDummyData.append(\n",
    "                [participant, currDate, i, np.round(np.random.random(), 2)] \n",
    "            )"
   ]
  },
  {
   "cell_type": "code",
   "execution_count": 15,
   "metadata": {},
   "outputs": [],
   "source": [
    "featuresDummy = pd.DataFrame(data = featuresDummyData, columns = [\"participantId\", \"date\"] + featureNames + [\"depressionScore\"])\n",
    "personalityScoresDummy = pd.DataFrame(data = personalityDummyData, columns = [\"participantId\", \"device\", \"open\", \"con\", \"agree\", \"extra\", \"neuro\"])\n",
    "# brightnessDummy = pd.DataFrame(data = brightnessDummyData, columns = [\"participantId\", \"date\", \"minuteOfTheDay\" ,\"brt\"])\n",
    "# accelerometerDummy = pd.DataFrame(data = accelerometerDummyData, columns = [\"participantId\", \"date\", \"minuteOfTheDay\" ,\"acc\"])\n",
    "# gyroscopeDummy = pd.DataFrame(data = gyrscopeDummyData, columns = [\"participantId\", \"date\", \"minuteOfTheDay\" ,\"gyr\"])"
   ]
  },
  {
   "cell_type": "code",
   "execution_count": 7,
   "metadata": {},
   "outputs": [],
   "source": [
    "# pca = PCA(n_components=2)\n",
    "# pca_result = pca.fit_transform(personalityScoresDummy.iloc[:,2:])\n",
    "# personalityScoresDummy['x0'] = pca_result[:,0]\n",
    "# personalityScoresDummy['x1'] = pca_result[:,1]"
   ]
  },
  {
   "cell_type": "code",
   "execution_count": 16,
   "metadata": {},
   "outputs": [],
   "source": [
    "# tsne = TSNE(n_components=2, verbose=1, perplexity=40, n_iter=300)\n",
    "# tsne_result = tsne.fit_transform(personalityScoresDummy.iloc[:,2:])\n",
    "# personalityScoresDummy['x'] = tsne_result[:,0]\n",
    "# personalityScoresDummy['y'] = tsne_result[:,1]"
   ]
  },
  {
   "cell_type": "code",
   "execution_count": 17,
   "metadata": {},
   "outputs": [],
   "source": [
    "# saving the files\n",
    "personalityScoresDummy.to_csv(os.path.join(datapath, \"dummyPersonalityScores\"), index=False, header=True)\n",
    "featuresDummy.to_csv(os.path.join(datapath, \"dummyFeatureData\"), index=False, header=True)\n",
    "# brightnessDummy.to_csv(os.path.join(datapath, \"dummyBrightness\"), index=False, header=True)\n",
    "# accelerometerDummy.to_csv(os.path.join(datapath, \"dummyAccelerometer\"), index=False, header=True)\n",
    "# gyroscopeDummy.to_csv(os.path.join(datapath, \"dummyGyroscope\"), index=False, header=True)"
   ]
  },
  {
   "cell_type": "code",
   "execution_count": null,
   "metadata": {},
   "outputs": [],
   "source": [
    "# # reading the files\n",
    "# personalityScoresDummy1 = pd.read_csv(os.path.join(datapath, \"dummyPersonalityScores\"), index=False)\n",
    "# featuresDummy1 = pd.read_csv(os.path.join(datapath, \"dummyFeatureData\"), index=False)\n",
    "# brightnessDummy1 = pd.read_csv(os.path.join(datapath, \"dummyBrightness\"), index=False)\n",
    "# featuresDummy1 = pd.read_csv(os.path.join(datapath, \"dummyAccelerometer\"), index=False)\n",
    "# featuresDummy1 = pd.read_csv(os.path.join(datapath, \"dummyGyroscope\"), index=False)"
   ]
  }
 ],
 "metadata": {
  "interpreter": {
   "hash": "31f2aee4e71d21fbe5cf8b01ff0e069b9275f58929596ceb00d14d90e3e16cd6"
  },
  "kernelspec": {
   "display_name": "Python 3.8.10 64-bit",
   "language": "python",
   "name": "python3"
  },
  "language_info": {
   "codemirror_mode": {
    "name": "ipython",
    "version": 3
   },
   "file_extension": ".py",
   "mimetype": "text/x-python",
   "name": "python",
   "nbconvert_exporter": "python",
   "pygments_lexer": "ipython3",
   "version": "3.8.10"
  },
  "orig_nbformat": 4
 },
 "nbformat": 4,
 "nbformat_minor": 2
}
